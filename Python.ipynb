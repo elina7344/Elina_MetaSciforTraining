{
  "nbformat": 4,
  "nbformat_minor": 0,
  "metadata": {
    "colab": {
      "provenance": []
    },
    "kernelspec": {
      "name": "python3",
      "display_name": "Python 3"
    },
    "language_info": {
      "name": "python"
    }
  },
  "cells": [
    {
      "cell_type": "code",
      "execution_count": 2,
      "metadata": {
        "colab": {
          "base_uri": "https://localhost:8080/"
        },
        "id": "Fze_OxEWvfSF",
        "outputId": "fda0a3f6-ccbc-450b-ab48-3fa562df413a"
      },
      "outputs": [
        {
          "output_type": "stream",
          "name": "stdout",
          "text": [
            "Hello World\n"
          ]
        }
      ],
      "source": [
        "'''\n",
        "Write a Python program that prints \"Hello, World!\" to the console.\n",
        "\n",
        "'''\n",
        "print(\"Hello World\")"
      ]
    },
    {
      "cell_type": "code",
      "source": [
        "'''\n",
        "Declare a variable x with the value 10. Assign another variable y with the string \"Python\". Print both values along with their types.\n",
        "'''\n",
        "x=10\n",
        "y=\"Python\"\n",
        "print(x)\n",
        "print(type(x))\n",
        "print(y)\n",
        "print(type(y))"
      ],
      "metadata": {
        "colab": {
          "base_uri": "https://localhost:8080/"
        },
        "id": "8mp4_jZeBqqp",
        "outputId": "d0756e80-acb2-4c53-cbeb-2865793cd488"
      },
      "execution_count": 1,
      "outputs": [
        {
          "output_type": "stream",
          "name": "stdout",
          "text": [
            "10\n",
            "<class 'int'>\n",
            "Python\n",
            "<class 'str'>\n"
          ]
        }
      ]
    },
    {
      "cell_type": "code",
      "source": [
        "'''\n",
        "Create a list of five numbers. Write a Python program to find the sum and average of all numbers in the list.\n",
        "\n",
        "'''\n",
        "List_num=[1,2,3,4,5]\n",
        "sum_list=sum(List_num)\n",
        "avg=sum_list/len(List_num)\n",
        "print(\"Sum of the list: \", sum_list)\n",
        "print(\"Avg: \", avg)"
      ],
      "metadata": {
        "colab": {
          "base_uri": "https://localhost:8080/"
        },
        "id": "6ZnzsezNB6vW",
        "outputId": "d1d68365-e5c7-43a1-a653-60f397528a66"
      },
      "execution_count": 3,
      "outputs": [
        {
          "output_type": "stream",
          "name": "stdout",
          "text": [
            "Sum of the list:  15\n",
            "Avg:  3.0\n"
          ]
        }
      ]
    },
    {
      "cell_type": "code",
      "source": [
        "'''\n",
        "Write a Python program that takes two numbers as input and prints their sum, difference, product, and quotient.\n",
        "\n",
        "'''\n",
        "a=int(input(\"Enter number 1: \"))\n",
        "b=int(input(\"Enter number 2: \"))\n",
        "sum_num=a+b\n",
        "diff=a-b\n",
        "prod=a*b\n",
        "quot=a/b\n",
        "print(\"sum: \",sum_num)\n",
        "print(\"difference: \",diff)\n",
        "print(\"product: \",prod)\n",
        "print(\"quotient: \",quot)"
      ],
      "metadata": {
        "colab": {
          "base_uri": "https://localhost:8080/"
        },
        "id": "V6k-f9TZDHZK",
        "outputId": "1a63c11e-64bc-46b2-c34d-a262cc6743f7"
      },
      "execution_count": 5,
      "outputs": [
        {
          "output_type": "stream",
          "name": "stdout",
          "text": [
            "Enter number 1: 10\n",
            "Enter number 2: 30\n",
            "sum:  40\n",
            "difference:  -20\n",
            "product:  300\n",
            "quotient:  0.3333333333333333\n"
          ]
        }
      ]
    },
    {
      "cell_type": "code",
      "source": [
        "'''\n",
        "Given name = \"Alice\" and age = 25, use different string formatting techniques (%, .format(), and f-strings) to print \"Alice is 25 years old.\"\n",
        "\n",
        "'''\n",
        "name = \"Alice\"\n",
        "age = 25\n",
        "# % operator\n",
        "print(\"%s is %d years old.\" % (name, age))\n",
        "# .format() method\n",
        "print(\"{name} is {age} years old.\".format(name=name, age=age))\n",
        "# f-strings\n",
        "print(f\"{name} is {age} years old.\")"
      ],
      "metadata": {
        "colab": {
          "base_uri": "https://localhost:8080/"
        },
        "id": "eOWHD-3jEe2G",
        "outputId": "a85d31f9-c9d8-4686-cc24-6f127a0fb7e4"
      },
      "execution_count": 6,
      "outputs": [
        {
          "output_type": "stream",
          "name": "stdout",
          "text": [
            "Alice is 25 years old.\n",
            "Alice is 25 years old.\n",
            "Alice is 25 years old.\n"
          ]
        }
      ]
    },
    {
      "cell_type": "code",
      "source": [
        "'''\n",
        "Write a Python program that takes a string as input and:\n",
        "Converts it to uppercase and lowercase.\n",
        "Counts the number of vowels in the string.\n",
        "Reverses the string.\n",
        "'''\n",
        "str_input=input(\"Enter a string: \")\n",
        "#Uppercase\n",
        "print(str_input.upper())\n",
        "#Lowercase\n",
        "print(str_input.lower())\n",
        "#number of vowels\n",
        "vowels=\"aeiouAEIOU\"\n",
        "vo_count=sum(1 for char in str_input if char in vowels)\n",
        "print(vo_count)\n",
        "#reverse\n",
        "reversed_text = str_input[::-1]\n",
        "print(reversed_text)"
      ],
      "metadata": {
        "colab": {
          "base_uri": "https://localhost:8080/"
        },
        "id": "1y-d1PM4FT1u",
        "outputId": "46176a96-05b3-48ad-98a2-e8be032bc4c7"
      },
      "execution_count": 9,
      "outputs": [
        {
          "output_type": "stream",
          "name": "stdout",
          "text": [
            "Enter a string: Hello World\n",
            "HELLO WORLD\n",
            "hello world\n",
            "3\n",
            "dlroW olleH\n"
          ]
        }
      ]
    },
    {
      "cell_type": "code",
      "source": [
        "number = int(input(\"Enter a number: \"))\n",
        "if number % 2 == 0:\n",
        "  print(\"The number is even.\")\n",
        "else:\n",
        "  print(\"The number is odd.\")"
      ],
      "metadata": {
        "colab": {
          "base_uri": "https://localhost:8080/"
        },
        "id": "SLCow9zPGxa_",
        "outputId": "f68e2057-0718-4e96-f713-0173bd7f1884"
      },
      "execution_count": 10,
      "outputs": [
        {
          "output_type": "stream",
          "name": "stdout",
          "text": [
            "Enter a number: 9\n",
            "The number is odd.\n"
          ]
        }
      ]
    },
    {
      "cell_type": "code",
      "source": [
        "for num in range(2, 51):\n",
        "    is_prime = True\n",
        "    for i in range(2, int(num**0.5) + 1):\n",
        "        if num % i == 0:\n",
        "            is_prime = False\n",
        "            break\n",
        "    if is_prime:\n",
        "        print(num)"
      ],
      "metadata": {
        "colab": {
          "base_uri": "https://localhost:8080/"
        },
        "id": "3ueP1RvLHeTB",
        "outputId": "55bac18f-6a64-4f50-d001-7488528f9d64"
      },
      "execution_count": 11,
      "outputs": [
        {
          "output_type": "stream",
          "name": "stdout",
          "text": [
            "2\n",
            "3\n",
            "5\n",
            "7\n",
            "11\n",
            "13\n",
            "17\n",
            "19\n",
            "23\n",
            "29\n",
            "31\n",
            "37\n",
            "41\n",
            "43\n",
            "47\n"
          ]
        }
      ]
    },
    {
      "cell_type": "code",
      "source": [
        "n = int (input (\"Enter a number: \"))\n",
        "factorial = 1\n",
        "if n >= 1:\n",
        "  for i in range (1, n+1):\n",
        "    factorial = factorial *i\n",
        "print (\"Factorial of the given number is: \", factorial)"
      ],
      "metadata": {
        "colab": {
          "base_uri": "https://localhost:8080/"
        },
        "id": "INCp24UTHuUh",
        "outputId": "40b3f2a6-fb62-4421-9c35-b6e48e6536ba"
      },
      "execution_count": 14,
      "outputs": [
        {
          "output_type": "stream",
          "name": "stdout",
          "text": [
            "Enter a number: 6\n",
            "Factorial of the given number is:  720\n"
          ]
        }
      ]
    },
    {
      "cell_type": "code",
      "source": [
        "class Car:\n",
        "    def __init__(self, brand, model, year):\n",
        "        self.brand = brand\n",
        "        self.model = model\n",
        "        self.year = year\n",
        "\n",
        "    def display_info(self):\n",
        "        print(f\"Car details: {self.brand} {self.model}, {self.year}\")\n",
        "\n",
        "# Create a car object\n",
        "my_car = Car(\"Toyota\", \"Camry\", 2020)\n",
        "\n",
        "# Call the display_info method\n",
        "my_car.display_info()"
      ],
      "metadata": {
        "colab": {
          "base_uri": "https://localhost:8080/"
        },
        "id": "UCffMxXqH6JB",
        "outputId": "0c2e15aa-ad49-46a6-9595-2a314abf95eb"
      },
      "execution_count": 15,
      "outputs": [
        {
          "output_type": "stream",
          "name": "stdout",
          "text": [
            "Car details: Toyota Camry, 2020\n"
          ]
        }
      ]
    },
    {
      "cell_type": "code",
      "source": [
        "student_scores = {\"Alice\": 85, \"Bob\": 92, \"Charlie\": 78}\n",
        "\n",
        "# Print all keys and values\n",
        "print(\"Student Scores:\")\n",
        "for name, score in student_scores.items():\n",
        "    print(f\"{name}: {score}\")\n",
        "\n",
        "# Find the highest score\n",
        "highest_score = max(student_scores.values())\n",
        "print(f\"Highest score: {highest_score}\")"
      ],
      "metadata": {
        "colab": {
          "base_uri": "https://localhost:8080/"
        },
        "id": "tQZ5FnprIQbN",
        "outputId": "37b94cf7-cf49-47f1-8ad6-a586b8e6cc4c"
      },
      "execution_count": 16,
      "outputs": [
        {
          "output_type": "stream",
          "name": "stdout",
          "text": [
            "Student Scores:\n",
            "Alice: 85\n",
            "Bob: 92\n",
            "Charlie: 78\n",
            "Highest score: 92\n"
          ]
        }
      ]
    },
    {
      "cell_type": "code",
      "source": [
        "import math\n",
        "\n",
        "def calculate_square_root_and_factorial(number):\n",
        "  \"\"\"Calculates the square root and factorial of a number.\n",
        "\n",
        "  Args:\n",
        "    number: The number to calculate the square root and factorial of.\n",
        "\n",
        "  Returns:\n",
        "    A tuple containing the square root and factorial of the number.\n",
        "  \"\"\"\n",
        "\n",
        "  if number < 0:\n",
        "    raise ValueError(\"Cannot calculate square root or factorial of a negative number.\")\n",
        "\n",
        "  square_root = math.sqrt(number)\n",
        "  factorial = math.factorial(number)\n",
        "  return square_root, factorial\n",
        "\n",
        "if __name__ == \"__main__\":\n",
        "  try:\n",
        "    num = int(input(\"Enter a non-negative number: \"))\n",
        "    sqrt_result, factorial_result = calculate_square_root_and_factorial(num)\n",
        "    print(f\"The square root of {num} is: {sqrt_result}\")\n",
        "    print(f\"The factorial of {num} is: {factorial_result}\")\n",
        "  except ValueError as e:\n",
        "    print(f\"Error: {e}\")"
      ],
      "metadata": {
        "id": "0LN9y_P_IWE6"
      },
      "execution_count": null,
      "outputs": []
    },
    {
      "cell_type": "code",
      "source": [
        "import math\n",
        "number=10\n",
        "square_root = math.sqrt(number)\n",
        "factorial = math.factorial(number)\n",
        "print(square_root)\n",
        "print(factorial)"
      ],
      "metadata": {
        "colab": {
          "base_uri": "https://localhost:8080/"
        },
        "id": "kCPUdowuInsx",
        "outputId": "fb0b74fd-768a-4398-e02d-e717d1c8da8a"
      },
      "execution_count": 17,
      "outputs": [
        {
          "output_type": "stream",
          "name": "stdout",
          "text": [
            "3.1622776601683795\n",
            "3628800\n"
          ]
        }
      ]
    },
    {
      "cell_type": "code",
      "source": [
        "name = input(\"What is your name? \")\n",
        "age = int(input(\"How old are you? \"))  # Convert input to integer\n",
        "\n",
        "print(f\"Hello {name}, you are {age} years old!\")\n"
      ],
      "metadata": {
        "id": "NU6NaaXwI2OZ"
      },
      "execution_count": null,
      "outputs": []
    },
    {
      "cell_type": "code",
      "source": [],
      "metadata": {
        "id": "mufTEPGCI9CQ"
      },
      "execution_count": null,
      "outputs": []
    }
  ]
}