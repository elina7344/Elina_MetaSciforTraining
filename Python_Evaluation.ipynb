{
  "nbformat": 4,
  "nbformat_minor": 0,
  "metadata": {
    "colab": {
      "provenance": []
    },
    "kernelspec": {
      "name": "python3",
      "display_name": "Python 3"
    },
    "language_info": {
      "name": "python"
    }
  },
  "cells": [
    {
      "cell_type": "code",
      "execution_count": null,
      "metadata": {
        "colab": {
          "base_uri": "https://localhost:8080/"
        },
        "id": "8takafu57EkN",
        "outputId": "7cc1dce5-f10a-4390-c629-c99c006ed343"
      },
      "outputs": [
        {
          "output_type": "stream",
          "name": "stdout",
          "text": [
            "All Plants are green\n",
            "Termeric is an an antioxidant and good for skin\n",
            "Aloeveera is good for skin\n",
            "Both Termeric and Aloevera are good for skin\n"
          ]
        }
      ],
      "source": [
        "#Hybrid Inheritance\n",
        "class Plant:\n",
        "  def __init__(self):\n",
        "    print(\"All Plants are green\")\n",
        "\n",
        "class Aloevera(Plant):\n",
        "  def __init__(self):\n",
        "    super().__init__()\n",
        "    print(\"Aloeveera is good for skin\")\n",
        "\n",
        "class Termeric(Plant):\n",
        "  def __init__(self):\n",
        "    super().__init__()\n",
        "    print(\"Termeric is an an antioxidant and good for skin\")\n",
        "\n",
        "class GoodForSkin(Aloevera,Termeric):\n",
        "  def __init__(self):\n",
        "    super().__init__()\n",
        "    print(\"Both Termeric and Aloevera are good for skin\")\n",
        "\n",
        "g=GoodForSkin()"
      ]
    }
  ]
}